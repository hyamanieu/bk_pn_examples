{
 "cells": [
  {
   "cell_type": "code",
   "execution_count": 20,
   "metadata": {},
   "outputs": [],
   "source": [
    "import pandas as pd\n",
    "import hvplot.pandas\n",
    "from sqlalchemy import create_engine\n",
    "import sqlite3"
   ]
  },
  {
   "cell_type": "code",
   "execution_count": 21,
   "metadata": {},
   "outputs": [],
   "source": [
    "conn = sqlite3.connect(os.path.join(os.getcwd(),'TestDB.db'))"
   ]
  },
  {
   "cell_type": "code",
   "execution_count": 24,
   "metadata": {},
   "outputs": [],
   "source": [
    "query = \"SELECT * FROM info\""
   ]
  },
  {
   "cell_type": "code",
   "execution_count": 26,
   "metadata": {},
   "outputs": [],
   "source": [
    "info_df = pd.read_sql_query(query, conn)"
   ]
  },
  {
   "cell_type": "code",
   "execution_count": 61,
   "metadata": {},
   "outputs": [
    {
     "name": "stdout",
     "output_type": "stream",
     "text": [
      "<class 'pandas.core.frame.DataFrame'>\n",
      "RangeIndex: 1000 entries, 0 to 999\n",
      "Data columns (total 7 columns):\n",
      "index       1000 non-null int64\n",
      "fab_date    1000 non-null object\n",
      "type        1000 non-null object\n",
      "E-moduli    1000 non-null float64\n",
      "Hardness    1000 non-null float64\n",
      "Strength    1000 non-null float64\n",
      "broke       1000 non-null int64\n",
      "dtypes: float64(3), int64(2), object(2)\n",
      "memory usage: 54.8+ KB\n"
     ]
    }
   ],
   "source": [
    "info_df.info()"
   ]
  },
  {
   "cell_type": "code",
   "execution_count": 62,
   "metadata": {},
   "outputs": [],
   "source": [
    "info_df.fab_date = pd.to_datetime(info_df.fab_date)"
   ]
  },
  {
   "cell_type": "code",
   "execution_count": 63,
   "metadata": {},
   "outputs": [
    {
     "data": {
      "application/vnd.holoviews_exec.v0+json": "",
      "text/html": [
       "<div id='44885' style='display: table; margin: 0 auto;'>\n",
       "\n",
       "\n",
       "\n",
       "\n",
       "\n",
       "  <div class=\"bk-root\" id=\"55e54a50-bd60-40f0-913e-8a5fe87b5dd9\" data-root-id=\"44885\"></div>\n",
       "</div>\n",
       "<script type=\"application/javascript\">(function(root) {\n",
       "  function embed_document(root) {\n",
       "    \n",
       "  var docs_json = {\"7f9eba1b-f320-47ef-98db-ac8e53c416b2\":{\"roots\":{\"references\":[{\"attributes\":{\"align\":null,\"below\":[{\"id\":\"44894\",\"type\":\"DatetimeAxis\"}],\"center\":[{\"id\":\"44898\",\"type\":\"Grid\"},{\"id\":\"44903\",\"type\":\"Grid\"}],\"left\":[{\"id\":\"44899\",\"type\":\"LinearAxis\"}],\"margin\":null,\"min_border_bottom\":10,\"min_border_left\":10,\"min_border_right\":10,\"min_border_top\":10,\"plot_height\":300,\"plot_width\":700,\"renderers\":[{\"id\":\"44922\",\"type\":\"GlyphRenderer\"}],\"sizing_mode\":\"fixed\",\"title\":{\"id\":\"44886\",\"type\":\"Title\"},\"toolbar\":{\"id\":\"44909\",\"type\":\"Toolbar\"},\"x_range\":{\"id\":\"44882\",\"type\":\"Range1d\"},\"x_scale\":{\"id\":\"44890\",\"type\":\"LinearScale\"},\"y_range\":{\"id\":\"44883\",\"type\":\"Range1d\"},\"y_scale\":{\"id\":\"44892\",\"type\":\"LinearScale\"}},\"id\":\"44885\",\"subtype\":\"Figure\",\"type\":\"Plot\"},{\"attributes\":{},\"id\":\"44927\",\"type\":\"BasicTickFormatter\"},{\"attributes\":{\"base\":60,\"mantissas\":[1,2,5,10,15,20,30],\"max_interval\":1800000.0,\"min_interval\":1000.0,\"num_minor_ticks\":0},\"id\":\"44934\",\"type\":\"AdaptiveTicker\"},{\"attributes\":{\"dimension\":1,\"grid_line_color\":null,\"ticker\":{\"id\":\"44900\",\"type\":\"BasicTicker\"}},\"id\":\"44903\",\"type\":\"Grid\"},{\"attributes\":{\"months\":[0,6]},\"id\":\"44943\",\"type\":\"MonthsTicker\"},{\"attributes\":{},\"id\":\"44890\",\"type\":\"LinearScale\"},{\"attributes\":{\"grid_line_color\":null,\"ticker\":{\"id\":\"44895\",\"type\":\"DatetimeTicker\"}},\"id\":\"44898\",\"type\":\"Grid\"},{\"attributes\":{\"bottom_units\":\"screen\",\"fill_alpha\":{\"value\":0.5},\"fill_color\":{\"value\":\"lightgrey\"},\"left_units\":\"screen\",\"level\":\"overlay\",\"line_alpha\":{\"value\":1.0},\"line_color\":{\"value\":\"black\"},\"line_dash\":[4,4],\"line_width\":{\"value\":2},\"render_mode\":\"css\",\"right_units\":\"screen\",\"top_units\":\"screen\"},\"id\":\"44945\",\"type\":\"BoxAnnotation\"},{\"attributes\":{\"text\":\"\",\"text_color\":{\"value\":\"black\"},\"text_font_size\":{\"value\":\"12pt\"}},\"id\":\"44886\",\"type\":\"Title\"},{\"attributes\":{},\"id\":\"44925\",\"type\":\"DatetimeTickFormatter\"},{\"attributes\":{\"mantissas\":[1,2,5],\"max_interval\":500.0,\"num_minor_ticks\":0},\"id\":\"44933\",\"type\":\"AdaptiveTicker\"},{\"attributes\":{\"days\":[1,2,3,4,5,6,7,8,9,10,11,12,13,14,15,16,17,18,19,20,21,22,23,24,25,26,27,28,29,30,31]},\"id\":\"44936\",\"type\":\"DaysTicker\"},{\"attributes\":{},\"id\":\"44905\",\"type\":\"PanTool\"},{\"attributes\":{},\"id\":\"44917\",\"type\":\"Selection\"},{\"attributes\":{\"axis_label\":\"E-moduli\",\"bounds\":\"auto\",\"formatter\":{\"id\":\"44927\",\"type\":\"BasicTickFormatter\"},\"major_label_orientation\":\"horizontal\",\"ticker\":{\"id\":\"44900\",\"type\":\"BasicTicker\"}},\"id\":\"44899\",\"type\":\"LinearAxis\"},{\"attributes\":{},\"id\":\"44900\",\"type\":\"BasicTicker\"},{\"attributes\":{\"fill_alpha\":{\"value\":0.1},\"fill_color\":{\"value\":\"#1f77b3\"},\"line_alpha\":{\"value\":0.1},\"line_color\":{\"value\":\"#1f77b3\"},\"size\":{\"units\":\"screen\",\"value\":5.477225575051661},\"x\":{\"field\":\"fab_date\"},\"y\":{\"field\":\"E-moduli\"}},\"id\":\"44920\",\"type\":\"Scatter\"},{\"attributes\":{\"callback\":null,\"end\":98.96898916350007,\"reset_end\":98.96898916350007,\"reset_start\":90.0664128674492,\"start\":90.0664128674492,\"tags\":[[[\"E-moduli\",\"E-moduli\",null]]]},\"id\":\"44883\",\"type\":\"Range1d\"},{\"attributes\":{\"callback\":null,\"data\":{\"E-moduli\":{\"__ndarray__\":\"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\",\"dtype\":\"float64\",\"shape\":[244]},\"E_hyphen_minus_moduli\":{\"__ndarray__\":\"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\",\"dtype\":\"float64\",\"shape\":[244]},\"fab_date\":{\"__ndarray__\":\"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\",\"dtype\":\"float64\",\"shape\":[244]},\"fab_date_dt_strings\":[\"2019-01-01 00:00:00\",\"2019-01-05 00:00:00\",\"2019-01-05 00:00:00\",\"2019-01-05 00:00:00\",\"2019-01-06 00:00:00\",\"2019-01-07 00:00:00\",\"2019-01-07 00:00:00\",\"2019-01-10 00:00:00\",\"2019-01-10 00:00:00\",\"2019-01-10 00:00:00\",\"2019-01-15 00:00:00\",\"2019-01-16 00:00:00\",\"2019-01-17 00:00:00\",\"2019-01-18 00:00:00\",\"2019-01-18 00:00:00\",\"2019-01-19 00:00:00\",\"2019-01-20 00:00:00\",\"2019-01-20 00:00:00\",\"2019-01-21 00:00:00\",\"2019-01-22 00:00:00\",\"2019-01-23 00:00:00\",\"2019-01-23 00:00:00\",\"2019-01-24 00:00:00\",\"2019-01-26 00:00:00\",\"2019-01-29 00:00:00\",\"2019-01-30 00:00:00\",\"2019-01-31 00:00:00\",\"2019-02-01 00:00:00\",\"2019-02-02 00:00:00\",\"2019-02-02 00:00:00\",\"2019-02-03 00:00:00\",\"2019-02-03 00:00:00\",\"2019-02-08 00:00:00\",\"2019-02-09 00:00:00\",\"2019-02-10 00:00:00\",\"2019-02-11 00:00:00\",\"2019-02-11 00:00:00\",\"2019-02-13 00:00:00\",\"2019-02-14 00:00:00\",\"2019-02-14 00:00:00\",\"2019-02-15 00:00:00\",\"2019-02-16 00:00:00\",\"2019-02-16 00:00:00\",\"2019-02-17 00:00:00\",\"2019-02-19 00:00:00\",\"2019-02-23 00:00:00\",\"2019-02-23 00:00:00\",\"2019-02-23 00:00:00\",\"2019-02-25 00:00:00\",\"2019-02-25 00:00:00\",\"2019-02-27 00:00:00\",\"2019-02-28 00:00:00\",\"2019-03-02 00:00:00\",\"2019-03-06 00:00:00\",\"2019-03-07 00:00:00\",\"2019-03-08 00:00:00\",\"2019-03-10 00:00:00\",\"2019-03-14 00:00:00\",\"2019-03-15 00:00:00\",\"2019-03-21 00:00:00\",\"2019-03-22 00:00:00\",\"2019-03-24 00:00:00\",\"2019-03-25 00:00:00\",\"2019-03-31 00:00:00\",\"2019-03-31 00:00:00\",\"2019-04-02 00:00:00\",\"2019-04-03 00:00:00\",\"2019-04-04 00:00:00\",\"2019-04-06 00:00:00\",\"2019-04-06 00:00:00\",\"2019-04-07 00:00:00\",\"2019-04-07 00:00:00\",\"2019-04-08 00:00:00\",\"2019-04-08 00:00:00\",\"2019-04-10 00:00:00\",\"2019-04-14 00:00:00\",\"2019-04-15 00:00:00\",\"2019-04-18 00:00:00\",\"2019-04-18 00:00:00\",\"2019-04-20 00:00:00\",\"2019-04-21 00:00:00\",\"2019-04-22 00:00:00\",\"2019-04-23 00:00:00\",\"2019-04-25 00:00:00\",\"2019-04-27 00:00:00\",\"2019-04-28 00:00:00\",\"2019-04-29 00:00:00\",\"2019-04-29 00:00:00\",\"2019-04-29 00:00:00\",\"2019-05-01 00:00:00\",\"2019-05-02 00:00:00\",\"2019-05-06 00:00:00\",\"2019-05-06 00:00:00\",\"2019-05-08 00:00:00\",\"2019-05-10 00:00:00\",\"2019-05-10 00:00:00\",\"2019-05-11 00:00:00\",\"2019-05-12 00:00:00\",\"2019-05-14 00:00:00\",\"2019-05-15 00:00:00\",\"2019-05-16 00:00:00\",\"2019-05-16 00:00:00\",\"2019-05-18 00:00:00\",\"2019-05-20 00:00:00\",\"2019-05-20 00:00:00\",\"2019-05-20 00:00:00\",\"2019-05-20 00:00:00\",\"2019-05-21 00:00:00\",\"2019-05-23 00:00:00\",\"2019-05-23 00:00:00\",\"2019-05-23 00:00:00\",\"2019-05-23 00:00:00\",\"2019-05-24 00:00:00\",\"2019-05-24 00:00:00\",\"2019-05-25 00:00:00\",\"2019-05-26 00:00:00\",\"2019-05-28 00:00:00\",\"2019-05-30 00:00:00\",\"2019-06-04 00:00:00\",\"2019-06-04 00:00:00\",\"2019-06-05 00:00:00\",\"2019-06-07 00:00:00\",\"2019-06-08 00:00:00\",\"2019-06-11 00:00:00\",\"2019-06-12 00:00:00\",\"2019-06-12 00:00:00\",\"2019-06-12 00:00:00\",\"2019-06-13 00:00:00\",\"2019-06-14 00:00:00\",\"2019-06-15 00:00:00\",\"2019-06-16 00:00:00\",\"2019-06-17 00:00:00\",\"2019-06-18 00:00:00\",\"2019-06-18 00:00:00\",\"2019-06-19 00:00:00\",\"2019-06-20 00:00:00\",\"2019-06-20 00:00:00\",\"2019-06-20 00:00:00\",\"2019-06-22 00:00:00\",\"2019-06-23 00:00:00\",\"2019-06-25 00:00:00\",\"2019-06-26 00:00:00\",\"2019-06-28 00:00:00\",\"2019-07-02 00:00:00\",\"2019-07-02 00:00:00\",\"2019-07-02 00:00:00\",\"2019-07-09 00:00:00\",\"2019-07-11 00:00:00\",\"2019-07-14 00:00:00\",\"2019-07-14 00:00:00\",\"2019-07-14 00:00:00\",\"2019-07-14 00:00:00\",\"2019-07-15 00:00:00\",\"2019-07-15 00:00:00\",\"2019-07-15 00:00:00\",\"2019-07-17 00:00:00\",\"2019-07-17 00:00:00\",\"2019-07-18 00:00:00\",\"2019-07-18 00:00:00\",\"2019-07-20 00:00:00\",\"2019-07-21 00:00:00\",\"2019-07-21 00:00:00\",\"2019-07-21 00:00:00\",\"2019-07-23 00:00:00\",\"2019-07-23 00:00:00\",\"2019-07-26 00:00:00\",\"2019-07-30 00:00:00\",\"2019-07-30 00:00:00\",\"2019-07-30 00:00:00\",\"2019-07-31 00:00:00\",\"2019-08-04 00:00:00\",\"2019-08-05 00:00:00\",\"2019-08-06 00:00:00\",\"2019-08-06 00:00:00\",\"2019-08-07 00:00:00\",\"2019-08-11 00:00:00\",\"2019-08-12 00:00:00\",\"2019-08-12 00:00:00\",\"2019-08-15 00:00:00\",\"2019-08-18 00:00:00\",\"2019-08-18 00:00:00\",\"2019-08-19 00:00:00\",\"2019-08-20 00:00:00\",\"2019-08-21 00:00:00\",\"2019-08-24 00:00:00\",\"2019-09-03 00:00:00\",\"2019-09-07 00:00:00\",\"2019-09-09 00:00:00\",\"2019-09-12 00:00:00\",\"2019-09-15 00:00:00\",\"2019-09-15 00:00:00\",\"2019-09-15 00:00:00\",\"2019-09-16 00:00:00\",\"2019-09-16 00:00:00\",\"2019-09-18 00:00:00\",\"2019-09-22 00:00:00\",\"2019-09-22 00:00:00\",\"2019-09-24 00:00:00\",\"2019-09-28 00:00:00\",\"2019-09-29 00:00:00\",\"2019-09-30 00:00:00\",\"2019-10-01 00:00:00\",\"2019-10-03 00:00:00\",\"2019-10-03 00:00:00\",\"2019-10-04 00:00:00\",\"2019-10-05 00:00:00\",\"2019-10-07 00:00:00\",\"2019-10-08 00:00:00\",\"2019-10-09 00:00:00\",\"2019-10-09 00:00:00\",\"2019-10-10 00:00:00\",\"2019-10-10 00:00:00\",\"2019-10-11 00:00:00\",\"2019-10-12 00:00:00\",\"2019-10-13 00:00:00\",\"2019-10-14 00:00:00\",\"2019-10-14 00:00:00\",\"2019-10-15 00:00:00\",\"2019-10-16 00:00:00\",\"2019-10-17 00:00:00\",\"2019-10-17 00:00:00\",\"2019-10-17 00:00:00\",\"2019-10-19 00:00:00\",\"2019-10-19 00:00:00\",\"2019-10-20 00:00:00\",\"2019-10-20 00:00:00\",\"2019-10-22 00:00:00\",\"2019-10-22 00:00:00\",\"2019-10-22 00:00:00\",\"2019-10-23 00:00:00\",\"2019-10-25 00:00:00\",\"2019-10-27 00:00:00\",\"2019-10-30 00:00:00\",\"2019-10-30 00:00:00\",\"2019-10-30 00:00:00\",\"2019-10-31 00:00:00\",\"2019-11-02 00:00:00\",\"2019-11-03 00:00:00\",\"2019-11-07 00:00:00\",\"2019-11-09 00:00:00\",\"2019-11-14 00:00:00\",\"2019-11-15 00:00:00\",\"2019-11-17 00:00:00\",\"2019-11-17 00:00:00\"]},\"selected\":{\"id\":\"44917\",\"type\":\"Selection\"},\"selection_policy\":{\"id\":\"44946\",\"type\":\"UnionRenderers\"}},\"id\":\"44916\",\"type\":\"ColumnDataSource\"},{\"attributes\":{\"base\":24,\"mantissas\":[1,2,4,6,8,12],\"max_interval\":43200000.0,\"min_interval\":3600000.0,\"num_minor_ticks\":0},\"id\":\"44935\",\"type\":\"AdaptiveTicker\"},{\"attributes\":{\"days\":[1,8,15,22]},\"id\":\"44938\",\"type\":\"DaysTicker\"},{\"attributes\":{\"active_drag\":\"auto\",\"active_inspect\":\"auto\",\"active_multi\":null,\"active_scroll\":\"auto\",\"active_tap\":\"auto\",\"tools\":[{\"id\":\"44884\",\"type\":\"HoverTool\"},{\"id\":\"44904\",\"type\":\"SaveTool\"},{\"id\":\"44905\",\"type\":\"PanTool\"},{\"id\":\"44906\",\"type\":\"WheelZoomTool\"},{\"id\":\"44907\",\"type\":\"BoxZoomTool\"},{\"id\":\"44908\",\"type\":\"ResetTool\"}]},\"id\":\"44909\",\"type\":\"Toolbar\"},{\"attributes\":{},\"id\":\"44944\",\"type\":\"YearsTicker\"},{\"attributes\":{\"days\":[1,15]},\"id\":\"44939\",\"type\":\"DaysTicker\"},{\"attributes\":{},\"id\":\"44904\",\"type\":\"SaveTool\"},{\"attributes\":{\"overlay\":{\"id\":\"44945\",\"type\":\"BoxAnnotation\"}},\"id\":\"44907\",\"type\":\"BoxZoomTool\"},{\"attributes\":{\"axis_label\":\"fab_date\",\"bounds\":\"auto\",\"formatter\":{\"id\":\"44925\",\"type\":\"DatetimeTickFormatter\"},\"major_label_orientation\":1.5707963267948966,\"ticker\":{\"id\":\"44895\",\"type\":\"DatetimeTicker\"}},\"id\":\"44894\",\"type\":\"DatetimeAxis\"},{\"attributes\":{\"num_minor_ticks\":5,\"tickers\":[{\"id\":\"44933\",\"type\":\"AdaptiveTicker\"},{\"id\":\"44934\",\"type\":\"AdaptiveTicker\"},{\"id\":\"44935\",\"type\":\"AdaptiveTicker\"},{\"id\":\"44936\",\"type\":\"DaysTicker\"},{\"id\":\"44937\",\"type\":\"DaysTicker\"},{\"id\":\"44938\",\"type\":\"DaysTicker\"},{\"id\":\"44939\",\"type\":\"DaysTicker\"},{\"id\":\"44940\",\"type\":\"MonthsTicker\"},{\"id\":\"44941\",\"type\":\"MonthsTicker\"},{\"id\":\"44942\",\"type\":\"MonthsTicker\"},{\"id\":\"44943\",\"type\":\"MonthsTicker\"},{\"id\":\"44944\",\"type\":\"YearsTicker\"}]},\"id\":\"44895\",\"type\":\"DatetimeTicker\"},{\"attributes\":{\"fill_alpha\":{\"value\":0.2},\"fill_color\":{\"value\":\"#1f77b3\"},\"line_alpha\":{\"value\":0.2},\"line_color\":{\"value\":\"#1f77b3\"},\"size\":{\"units\":\"screen\",\"value\":5.477225575051661},\"x\":{\"field\":\"fab_date\"},\"y\":{\"field\":\"E-moduli\"}},\"id\":\"44921\",\"type\":\"Scatter\"},{\"attributes\":{},\"id\":\"44908\",\"type\":\"ResetTool\"},{\"attributes\":{},\"id\":\"44892\",\"type\":\"LinearScale\"},{\"attributes\":{\"data_source\":{\"id\":\"44916\",\"type\":\"ColumnDataSource\"},\"glyph\":{\"id\":\"44919\",\"type\":\"Scatter\"},\"hover_glyph\":null,\"muted_glyph\":{\"id\":\"44921\",\"type\":\"Scatter\"},\"nonselection_glyph\":{\"id\":\"44920\",\"type\":\"Scatter\"},\"selection_glyph\":null,\"view\":{\"id\":\"44923\",\"type\":\"CDSView\"}},\"id\":\"44922\",\"type\":\"GlyphRenderer\"},{\"attributes\":{\"callback\":null,\"end\":1573948800000.0,\"reset_end\":1573948800000.0,\"reset_start\":1546300800000.0,\"start\":1546300800000.0,\"tags\":[[[\"fab_date\",\"fab_date\",null]]]},\"id\":\"44882\",\"type\":\"Range1d\"},{\"attributes\":{},\"id\":\"44946\",\"type\":\"UnionRenderers\"},{\"attributes\":{\"fill_color\":{\"value\":\"#1f77b3\"},\"line_color\":{\"value\":\"#1f77b3\"},\"size\":{\"units\":\"screen\",\"value\":5.477225575051661},\"x\":{\"field\":\"fab_date\"},\"y\":{\"field\":\"E-moduli\"}},\"id\":\"44919\",\"type\":\"Scatter\"},{\"attributes\":{\"months\":[0,4,8]},\"id\":\"44942\",\"type\":\"MonthsTicker\"},{\"attributes\":{\"source\":{\"id\":\"44916\",\"type\":\"ColumnDataSource\"}},\"id\":\"44923\",\"type\":\"CDSView\"},{\"attributes\":{\"months\":[0,1,2,3,4,5,6,7,8,9,10,11]},\"id\":\"44940\",\"type\":\"MonthsTicker\"},{\"attributes\":{\"callback\":null,\"renderers\":[{\"id\":\"44922\",\"type\":\"GlyphRenderer\"}],\"tags\":[\"hv_created\"],\"tooltips\":[[\"fab_date\",\"@{fab_date_dt_strings}\"],[\"E-moduli\",\"@{E_hyphen_minus_moduli}\"]]},\"id\":\"44884\",\"type\":\"HoverTool\"},{\"attributes\":{},\"id\":\"44906\",\"type\":\"WheelZoomTool\"},{\"attributes\":{\"days\":[1,4,7,10,13,16,19,22,25,28]},\"id\":\"44937\",\"type\":\"DaysTicker\"},{\"attributes\":{\"months\":[0,2,4,6,8,10]},\"id\":\"44941\",\"type\":\"MonthsTicker\"}],\"root_ids\":[\"44885\"]},\"title\":\"Bokeh Application\",\"version\":\"1.4.0\"}};\n",
       "  var render_items = [{\"docid\":\"7f9eba1b-f320-47ef-98db-ac8e53c416b2\",\"roots\":{\"44885\":\"55e54a50-bd60-40f0-913e-8a5fe87b5dd9\"}}];\n",
       "  root.Bokeh.embed.embed_items_notebook(docs_json, render_items);\n",
       "\n",
       "  }\n",
       "  if (root.Bokeh !== undefined) {\n",
       "    embed_document(root);\n",
       "  } else {\n",
       "    var attempts = 0;\n",
       "    var timer = setInterval(function(root) {\n",
       "      if (root.Bokeh !== undefined) {\n",
       "        clearInterval(timer);\n",
       "        embed_document(root);\n",
       "      } else {\n",
       "        attempts++;\n",
       "        if (attempts > 100) {\n",
       "          clearInterval(timer);\n",
       "          console.log(\"Bokeh: ERROR: Unable to run BokehJS code because BokehJS library is missing\");\n",
       "        }\n",
       "      }\n",
       "    }, 10, root)\n",
       "  }\n",
       "})(window);</script>"
      ],
      "text/plain": [
       ":Scatter   [fab_date]   (E-moduli)"
      ]
     },
     "execution_count": 63,
     "metadata": {
      "application/vnd.holoviews_exec.v0+json": {
       "id": "44885"
      }
     },
     "output_type": "execute_result"
    }
   ],
   "source": [
    "info_df[info_df.type=='A'].hvplot.scatter(x='fab_date',y='E-moduli',rot=90)"
   ]
  },
  {
   "cell_type": "code",
   "execution_count": 64,
   "metadata": {},
   "outputs": [],
   "source": [
    "import bokeh as bk"
   ]
  },
  {
   "cell_type": "code",
   "execution_count": 65,
   "metadata": {},
   "outputs": [],
   "source": [
    "xformatter = bk.models.formatters.DatetimeTickFormatter()"
   ]
  },
  {
   "cell_type": "code",
   "execution_count": 68,
   "metadata": {},
   "outputs": [],
   "source": [
    "xformatter.years = ['%Y-%m-%d']\n",
    "xformatter.months = ['%Y-%m-%d']\n",
    "xformatter.days = ['%Y-%m-%d']"
   ]
  },
  {
   "cell_type": "code",
   "execution_count": 69,
   "metadata": {},
   "outputs": [
    {
     "data": {
      "application/vnd.holoviews_exec.v0+json": "",
      "text/html": [
       "<div id='45299' style='display: table; margin: 0 auto;'>\n",
       "\n",
       "\n",
       "\n",
       "\n",
       "\n",
       "  <div class=\"bk-root\" id=\"f4cd6547-733c-4dc3-a165-b9f2792c2b7b\" data-root-id=\"45299\"></div>\n",
       "</div>\n",
       "<script type=\"application/javascript\">(function(root) {\n",
       "  function embed_document(root) {\n",
       "    \n",
       "  var docs_json = {\"aa245582-652f-4a87-aade-20984469ca3c\":{\"roots\":{\"references\":[{\"attributes\":{\"align\":null,\"below\":[{\"id\":\"45308\",\"type\":\"DatetimeAxis\"}],\"center\":[{\"id\":\"45312\",\"type\":\"Grid\"},{\"id\":\"45317\",\"type\":\"Grid\"}],\"left\":[{\"id\":\"45313\",\"type\":\"LinearAxis\"}],\"margin\":null,\"min_border_bottom\":10,\"min_border_left\":10,\"min_border_right\":10,\"min_border_top\":10,\"plot_height\":300,\"plot_width\":700,\"renderers\":[{\"id\":\"45336\",\"type\":\"GlyphRenderer\"}],\"sizing_mode\":\"fixed\",\"title\":{\"id\":\"45300\",\"type\":\"Title\"},\"toolbar\":{\"id\":\"45323\",\"type\":\"Toolbar\"},\"x_range\":{\"id\":\"45296\",\"type\":\"Range1d\"},\"x_scale\":{\"id\":\"45304\",\"type\":\"LinearScale\"},\"y_range\":{\"id\":\"45297\",\"type\":\"Range1d\"},\"y_scale\":{\"id\":\"45306\",\"type\":\"LinearScale\"}},\"id\":\"45299\",\"subtype\":\"Figure\",\"type\":\"Plot\"},{\"attributes\":{\"months\":[0,2,4,6,8,10]},\"id\":\"45356\",\"type\":\"MonthsTicker\"},{\"attributes\":{\"mantissas\":[1,2,5],\"max_interval\":500.0,\"num_minor_ticks\":0},\"id\":\"45348\",\"type\":\"AdaptiveTicker\"},{\"attributes\":{},\"id\":\"45361\",\"type\":\"UnionRenderers\"},{\"attributes\":{\"fill_color\":{\"value\":\"#1f77b3\"},\"line_color\":{\"value\":\"#1f77b3\"},\"size\":{\"units\":\"screen\",\"value\":5.477225575051661},\"x\":{\"field\":\"fab_date\"},\"y\":{\"field\":\"E-moduli\"}},\"id\":\"45333\",\"type\":\"Scatter\"},{\"attributes\":{\"days\":[1,4,7,10,13,16,19,22,25,28]},\"id\":\"45352\",\"type\":\"DaysTicker\"},{\"attributes\":{},\"id\":\"45318\",\"type\":\"SaveTool\"},{\"attributes\":{\"fill_alpha\":{\"value\":0.1},\"fill_color\":{\"value\":\"#1f77b3\"},\"line_alpha\":{\"value\":0.1},\"line_color\":{\"value\":\"#1f77b3\"},\"size\":{\"units\":\"screen\",\"value\":5.477225575051661},\"x\":{\"field\":\"fab_date\"},\"y\":{\"field\":\"E-moduli\"}},\"id\":\"45334\",\"type\":\"Scatter\"},{\"attributes\":{\"days\":[1,8,15,22]},\"id\":\"45353\",\"type\":\"DaysTicker\"},{\"attributes\":{\"base\":60,\"mantissas\":[1,2,5,10,15,20,30],\"max_interval\":1800000.0,\"min_interval\":1000.0,\"num_minor_ticks\":0},\"id\":\"45349\",\"type\":\"AdaptiveTicker\"},{\"attributes\":{},\"id\":\"45331\",\"type\":\"Selection\"},{\"attributes\":{\"grid_line_color\":null,\"ticker\":{\"id\":\"45309\",\"type\":\"DatetimeTicker\"}},\"id\":\"45312\",\"type\":\"Grid\"},{\"attributes\":{},\"id\":\"45306\",\"type\":\"LinearScale\"},{\"attributes\":{\"source\":{\"id\":\"45330\",\"type\":\"ColumnDataSource\"}},\"id\":\"45337\",\"type\":\"CDSView\"},{\"attributes\":{\"days\":[1,15]},\"id\":\"45354\",\"type\":\"DaysTicker\"},{\"attributes\":{\"bottom_units\":\"screen\",\"fill_alpha\":{\"value\":0.5},\"fill_color\":{\"value\":\"lightgrey\"},\"left_units\":\"screen\",\"level\":\"overlay\",\"line_alpha\":{\"value\":1.0},\"line_color\":{\"value\":\"black\"},\"line_dash\":[4,4],\"line_width\":{\"value\":2},\"render_mode\":\"css\",\"right_units\":\"screen\",\"top_units\":\"screen\"},\"id\":\"45360\",\"type\":\"BoxAnnotation\"},{\"attributes\":{\"months\":[0,4,8]},\"id\":\"45357\",\"type\":\"MonthsTicker\"},{\"attributes\":{},\"id\":\"45304\",\"type\":\"LinearScale\"},{\"attributes\":{\"base\":24,\"mantissas\":[1,2,4,6,8,12],\"max_interval\":43200000.0,\"min_interval\":3600000.0,\"num_minor_ticks\":0},\"id\":\"45350\",\"type\":\"AdaptiveTicker\"},{\"attributes\":{\"callback\":null,\"renderers\":[{\"id\":\"45336\",\"type\":\"GlyphRenderer\"}],\"tags\":[\"hv_created\"],\"tooltips\":[[\"fab_date\",\"@{fab_date_dt_strings}\"],[\"E-moduli\",\"@{E_hyphen_minus_moduli}\"]]},\"id\":\"45298\",\"type\":\"HoverTool\"},{\"attributes\":{\"fill_alpha\":{\"value\":0.2},\"fill_color\":{\"value\":\"#1f77b3\"},\"line_alpha\":{\"value\":0.2},\"line_color\":{\"value\":\"#1f77b3\"},\"size\":{\"units\":\"screen\",\"value\":5.477225575051661},\"x\":{\"field\":\"fab_date\"},\"y\":{\"field\":\"E-moduli\"}},\"id\":\"45335\",\"type\":\"Scatter\"},{\"attributes\":{\"text\":\"\",\"text_color\":{\"value\":\"black\"},\"text_font_size\":{\"value\":\"12pt\"}},\"id\":\"45300\",\"type\":\"Title\"},{\"attributes\":{\"months\":[0,6]},\"id\":\"45358\",\"type\":\"MonthsTicker\"},{\"attributes\":{\"days\":[1,2,3,4,5,6,7,8,9,10,11,12,13,14,15,16,17,18,19,20,21,22,23,24,25,26,27,28,29,30,31]},\"id\":\"45351\",\"type\":\"DaysTicker\"},{\"attributes\":{\"axis_label\":\"fab_date\",\"bounds\":\"auto\",\"formatter\":{\"id\":\"45339\",\"type\":\"DatetimeTickFormatter\"},\"major_label_orientation\":1.5707963267948966,\"ticker\":{\"id\":\"45309\",\"type\":\"DatetimeTicker\"}},\"id\":\"45308\",\"type\":\"DatetimeAxis\"},{\"attributes\":{\"callback\":null,\"end\":1573948800000.0,\"reset_end\":1573948800000.0,\"reset_start\":1546300800000.0,\"start\":1546300800000.0,\"tags\":[[[\"fab_date\",\"fab_date\",null]]]},\"id\":\"45296\",\"type\":\"Range1d\"},{\"attributes\":{\"num_minor_ticks\":5,\"tickers\":[{\"id\":\"45348\",\"type\":\"AdaptiveTicker\"},{\"id\":\"45349\",\"type\":\"AdaptiveTicker\"},{\"id\":\"45350\",\"type\":\"AdaptiveTicker\"},{\"id\":\"45351\",\"type\":\"DaysTicker\"},{\"id\":\"45352\",\"type\":\"DaysTicker\"},{\"id\":\"45353\",\"type\":\"DaysTicker\"},{\"id\":\"45354\",\"type\":\"DaysTicker\"},{\"id\":\"45355\",\"type\":\"MonthsTicker\"},{\"id\":\"45356\",\"type\":\"MonthsTicker\"},{\"id\":\"45357\",\"type\":\"MonthsTicker\"},{\"id\":\"45358\",\"type\":\"MonthsTicker\"},{\"id\":\"45359\",\"type\":\"YearsTicker\"}]},\"id\":\"45309\",\"type\":\"DatetimeTicker\"},{\"attributes\":{\"overlay\":{\"id\":\"45360\",\"type\":\"BoxAnnotation\"}},\"id\":\"45321\",\"type\":\"BoxZoomTool\"},{\"attributes\":{\"axis_label\":\"E-moduli\",\"bounds\":\"auto\",\"formatter\":{\"id\":\"45342\",\"type\":\"BasicTickFormatter\"},\"major_label_orientation\":\"horizontal\",\"ticker\":{\"id\":\"45314\",\"type\":\"BasicTicker\"}},\"id\":\"45313\",\"type\":\"LinearAxis\"},{\"attributes\":{},\"id\":\"45342\",\"type\":\"BasicTickFormatter\"},{\"attributes\":{\"data_source\":{\"id\":\"45330\",\"type\":\"ColumnDataSource\"},\"glyph\":{\"id\":\"45333\",\"type\":\"Scatter\"},\"hover_glyph\":null,\"muted_glyph\":{\"id\":\"45335\",\"type\":\"Scatter\"},\"nonselection_glyph\":{\"id\":\"45334\",\"type\":\"Scatter\"},\"selection_glyph\":null,\"view\":{\"id\":\"45337\",\"type\":\"CDSView\"}},\"id\":\"45336\",\"type\":\"GlyphRenderer\"},{\"attributes\":{},\"id\":\"45314\",\"type\":\"BasicTicker\"},{\"attributes\":{},\"id\":\"45319\",\"type\":\"PanTool\"},{\"attributes\":{\"active_drag\":\"auto\",\"active_inspect\":\"auto\",\"active_multi\":null,\"active_scroll\":\"auto\",\"active_tap\":\"auto\",\"tools\":[{\"id\":\"45298\",\"type\":\"HoverTool\"},{\"id\":\"45318\",\"type\":\"SaveTool\"},{\"id\":\"45319\",\"type\":\"PanTool\"},{\"id\":\"45320\",\"type\":\"WheelZoomTool\"},{\"id\":\"45321\",\"type\":\"BoxZoomTool\"},{\"id\":\"45322\",\"type\":\"ResetTool\"}]},\"id\":\"45323\",\"type\":\"Toolbar\"},{\"attributes\":{},\"id\":\"45322\",\"type\":\"ResetTool\"},{\"attributes\":{},\"id\":\"45359\",\"type\":\"YearsTicker\"},{\"attributes\":{\"callback\":null,\"data\":{\"E-moduli\":{\"__ndarray__\":\"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\",\"dtype\":\"float64\",\"shape\":[244]},\"E_hyphen_minus_moduli\":{\"__ndarray__\":\"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\",\"dtype\":\"float64\",\"shape\":[244]},\"fab_date\":{\"__ndarray__\":\"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\",\"dtype\":\"float64\",\"shape\":[244]},\"fab_date_dt_strings\":[\"2019-01-01 00:00:00\",\"2019-01-05 00:00:00\",\"2019-01-05 00:00:00\",\"2019-01-05 00:00:00\",\"2019-01-06 00:00:00\",\"2019-01-07 00:00:00\",\"2019-01-07 00:00:00\",\"2019-01-10 00:00:00\",\"2019-01-10 00:00:00\",\"2019-01-10 00:00:00\",\"2019-01-15 00:00:00\",\"2019-01-16 00:00:00\",\"2019-01-17 00:00:00\",\"2019-01-18 00:00:00\",\"2019-01-18 00:00:00\",\"2019-01-19 00:00:00\",\"2019-01-20 00:00:00\",\"2019-01-20 00:00:00\",\"2019-01-21 00:00:00\",\"2019-01-22 00:00:00\",\"2019-01-23 00:00:00\",\"2019-01-23 00:00:00\",\"2019-01-24 00:00:00\",\"2019-01-26 00:00:00\",\"2019-01-29 00:00:00\",\"2019-01-30 00:00:00\",\"2019-01-31 00:00:00\",\"2019-02-01 00:00:00\",\"2019-02-02 00:00:00\",\"2019-02-02 00:00:00\",\"2019-02-03 00:00:00\",\"2019-02-03 00:00:00\",\"2019-02-08 00:00:00\",\"2019-02-09 00:00:00\",\"2019-02-10 00:00:00\",\"2019-02-11 00:00:00\",\"2019-02-11 00:00:00\",\"2019-02-13 00:00:00\",\"2019-02-14 00:00:00\",\"2019-02-14 00:00:00\",\"2019-02-15 00:00:00\",\"2019-02-16 00:00:00\",\"2019-02-16 00:00:00\",\"2019-02-17 00:00:00\",\"2019-02-19 00:00:00\",\"2019-02-23 00:00:00\",\"2019-02-23 00:00:00\",\"2019-02-23 00:00:00\",\"2019-02-25 00:00:00\",\"2019-02-25 00:00:00\",\"2019-02-27 00:00:00\",\"2019-02-28 00:00:00\",\"2019-03-02 00:00:00\",\"2019-03-06 00:00:00\",\"2019-03-07 00:00:00\",\"2019-03-08 00:00:00\",\"2019-03-10 00:00:00\",\"2019-03-14 00:00:00\",\"2019-03-15 00:00:00\",\"2019-03-21 00:00:00\",\"2019-03-22 00:00:00\",\"2019-03-24 00:00:00\",\"2019-03-25 00:00:00\",\"2019-03-31 00:00:00\",\"2019-03-31 00:00:00\",\"2019-04-02 00:00:00\",\"2019-04-03 00:00:00\",\"2019-04-04 00:00:00\",\"2019-04-06 00:00:00\",\"2019-04-06 00:00:00\",\"2019-04-07 00:00:00\",\"2019-04-07 00:00:00\",\"2019-04-08 00:00:00\",\"2019-04-08 00:00:00\",\"2019-04-10 00:00:00\",\"2019-04-14 00:00:00\",\"2019-04-15 00:00:00\",\"2019-04-18 00:00:00\",\"2019-04-18 00:00:00\",\"2019-04-20 00:00:00\",\"2019-04-21 00:00:00\",\"2019-04-22 00:00:00\",\"2019-04-23 00:00:00\",\"2019-04-25 00:00:00\",\"2019-04-27 00:00:00\",\"2019-04-28 00:00:00\",\"2019-04-29 00:00:00\",\"2019-04-29 00:00:00\",\"2019-04-29 00:00:00\",\"2019-05-01 00:00:00\",\"2019-05-02 00:00:00\",\"2019-05-06 00:00:00\",\"2019-05-06 00:00:00\",\"2019-05-08 00:00:00\",\"2019-05-10 00:00:00\",\"2019-05-10 00:00:00\",\"2019-05-11 00:00:00\",\"2019-05-12 00:00:00\",\"2019-05-14 00:00:00\",\"2019-05-15 00:00:00\",\"2019-05-16 00:00:00\",\"2019-05-16 00:00:00\",\"2019-05-18 00:00:00\",\"2019-05-20 00:00:00\",\"2019-05-20 00:00:00\",\"2019-05-20 00:00:00\",\"2019-05-20 00:00:00\",\"2019-05-21 00:00:00\",\"2019-05-23 00:00:00\",\"2019-05-23 00:00:00\",\"2019-05-23 00:00:00\",\"2019-05-23 00:00:00\",\"2019-05-24 00:00:00\",\"2019-05-24 00:00:00\",\"2019-05-25 00:00:00\",\"2019-05-26 00:00:00\",\"2019-05-28 00:00:00\",\"2019-05-30 00:00:00\",\"2019-06-04 00:00:00\",\"2019-06-04 00:00:00\",\"2019-06-05 00:00:00\",\"2019-06-07 00:00:00\",\"2019-06-08 00:00:00\",\"2019-06-11 00:00:00\",\"2019-06-12 00:00:00\",\"2019-06-12 00:00:00\",\"2019-06-12 00:00:00\",\"2019-06-13 00:00:00\",\"2019-06-14 00:00:00\",\"2019-06-15 00:00:00\",\"2019-06-16 00:00:00\",\"2019-06-17 00:00:00\",\"2019-06-18 00:00:00\",\"2019-06-18 00:00:00\",\"2019-06-19 00:00:00\",\"2019-06-20 00:00:00\",\"2019-06-20 00:00:00\",\"2019-06-20 00:00:00\",\"2019-06-22 00:00:00\",\"2019-06-23 00:00:00\",\"2019-06-25 00:00:00\",\"2019-06-26 00:00:00\",\"2019-06-28 00:00:00\",\"2019-07-02 00:00:00\",\"2019-07-02 00:00:00\",\"2019-07-02 00:00:00\",\"2019-07-09 00:00:00\",\"2019-07-11 00:00:00\",\"2019-07-14 00:00:00\",\"2019-07-14 00:00:00\",\"2019-07-14 00:00:00\",\"2019-07-14 00:00:00\",\"2019-07-15 00:00:00\",\"2019-07-15 00:00:00\",\"2019-07-15 00:00:00\",\"2019-07-17 00:00:00\",\"2019-07-17 00:00:00\",\"2019-07-18 00:00:00\",\"2019-07-18 00:00:00\",\"2019-07-20 00:00:00\",\"2019-07-21 00:00:00\",\"2019-07-21 00:00:00\",\"2019-07-21 00:00:00\",\"2019-07-23 00:00:00\",\"2019-07-23 00:00:00\",\"2019-07-26 00:00:00\",\"2019-07-30 00:00:00\",\"2019-07-30 00:00:00\",\"2019-07-30 00:00:00\",\"2019-07-31 00:00:00\",\"2019-08-04 00:00:00\",\"2019-08-05 00:00:00\",\"2019-08-06 00:00:00\",\"2019-08-06 00:00:00\",\"2019-08-07 00:00:00\",\"2019-08-11 00:00:00\",\"2019-08-12 00:00:00\",\"2019-08-12 00:00:00\",\"2019-08-15 00:00:00\",\"2019-08-18 00:00:00\",\"2019-08-18 00:00:00\",\"2019-08-19 00:00:00\",\"2019-08-20 00:00:00\",\"2019-08-21 00:00:00\",\"2019-08-24 00:00:00\",\"2019-09-03 00:00:00\",\"2019-09-07 00:00:00\",\"2019-09-09 00:00:00\",\"2019-09-12 00:00:00\",\"2019-09-15 00:00:00\",\"2019-09-15 00:00:00\",\"2019-09-15 00:00:00\",\"2019-09-16 00:00:00\",\"2019-09-16 00:00:00\",\"2019-09-18 00:00:00\",\"2019-09-22 00:00:00\",\"2019-09-22 00:00:00\",\"2019-09-24 00:00:00\",\"2019-09-28 00:00:00\",\"2019-09-29 00:00:00\",\"2019-09-30 00:00:00\",\"2019-10-01 00:00:00\",\"2019-10-03 00:00:00\",\"2019-10-03 00:00:00\",\"2019-10-04 00:00:00\",\"2019-10-05 00:00:00\",\"2019-10-07 00:00:00\",\"2019-10-08 00:00:00\",\"2019-10-09 00:00:00\",\"2019-10-09 00:00:00\",\"2019-10-10 00:00:00\",\"2019-10-10 00:00:00\",\"2019-10-11 00:00:00\",\"2019-10-12 00:00:00\",\"2019-10-13 00:00:00\",\"2019-10-14 00:00:00\",\"2019-10-14 00:00:00\",\"2019-10-15 00:00:00\",\"2019-10-16 00:00:00\",\"2019-10-17 00:00:00\",\"2019-10-17 00:00:00\",\"2019-10-17 00:00:00\",\"2019-10-19 00:00:00\",\"2019-10-19 00:00:00\",\"2019-10-20 00:00:00\",\"2019-10-20 00:00:00\",\"2019-10-22 00:00:00\",\"2019-10-22 00:00:00\",\"2019-10-22 00:00:00\",\"2019-10-23 00:00:00\",\"2019-10-25 00:00:00\",\"2019-10-27 00:00:00\",\"2019-10-30 00:00:00\",\"2019-10-30 00:00:00\",\"2019-10-30 00:00:00\",\"2019-10-31 00:00:00\",\"2019-11-02 00:00:00\",\"2019-11-03 00:00:00\",\"2019-11-07 00:00:00\",\"2019-11-09 00:00:00\",\"2019-11-14 00:00:00\",\"2019-11-15 00:00:00\",\"2019-11-17 00:00:00\",\"2019-11-17 00:00:00\"]},\"selected\":{\"id\":\"45331\",\"type\":\"Selection\"},\"selection_policy\":{\"id\":\"45361\",\"type\":\"UnionRenderers\"}},\"id\":\"45330\",\"type\":\"ColumnDataSource\"},{\"attributes\":{\"callback\":null,\"end\":98.96898916350007,\"reset_end\":98.96898916350007,\"reset_start\":90.0664128674492,\"start\":90.0664128674492,\"tags\":[[[\"E-moduli\",\"E-moduli\",null]]]},\"id\":\"45297\",\"type\":\"Range1d\"},{\"attributes\":{\"days\":[\"%Y-%m-%d\"],\"months\":[\"%Y-%m-%d\"],\"years\":[\"%Y-%m-%d\"]},\"id\":\"45339\",\"type\":\"DatetimeTickFormatter\"},{\"attributes\":{\"months\":[0,1,2,3,4,5,6,7,8,9,10,11]},\"id\":\"45355\",\"type\":\"MonthsTicker\"},{\"attributes\":{},\"id\":\"45320\",\"type\":\"WheelZoomTool\"},{\"attributes\":{\"dimension\":1,\"grid_line_color\":null,\"ticker\":{\"id\":\"45314\",\"type\":\"BasicTicker\"}},\"id\":\"45317\",\"type\":\"Grid\"}],\"root_ids\":[\"45299\"]},\"title\":\"Bokeh Application\",\"version\":\"1.4.0\"}};\n",
       "  var render_items = [{\"docid\":\"aa245582-652f-4a87-aade-20984469ca3c\",\"roots\":{\"45299\":\"f4cd6547-733c-4dc3-a165-b9f2792c2b7b\"}}];\n",
       "  root.Bokeh.embed.embed_items_notebook(docs_json, render_items);\n",
       "\n",
       "  }\n",
       "  if (root.Bokeh !== undefined) {\n",
       "    embed_document(root);\n",
       "  } else {\n",
       "    var attempts = 0;\n",
       "    var timer = setInterval(function(root) {\n",
       "      if (root.Bokeh !== undefined) {\n",
       "        clearInterval(timer);\n",
       "        embed_document(root);\n",
       "      } else {\n",
       "        attempts++;\n",
       "        if (attempts > 100) {\n",
       "          clearInterval(timer);\n",
       "          console.log(\"Bokeh: ERROR: Unable to run BokehJS code because BokehJS library is missing\");\n",
       "        }\n",
       "      }\n",
       "    }, 10, root)\n",
       "  }\n",
       "})(window);</script>"
      ],
      "text/plain": [
       ":Scatter   [fab_date]   (E-moduli)"
      ]
     },
     "execution_count": 69,
     "metadata": {
      "application/vnd.holoviews_exec.v0+json": {
       "id": "45299"
      }
     },
     "output_type": "execute_result"
    }
   ],
   "source": [
    "info_df[info_df.type=='A'].hvplot.scatter(x='fab_date',y='E-moduli',rot=90,xformatter=xformatter)"
   ]
  },
  {
   "cell_type": "code",
   "execution_count": 49,
   "metadata": {},
   "outputs": [
    {
     "data": {
      "application/vnd.holoviews_exec.v0+json": "",
      "text/html": [
       "<div id='44565' style='display: table; margin: 0 auto;'>\n",
       "\n",
       "\n",
       "\n",
       "\n",
       "\n",
       "  <div class=\"bk-root\" id=\"aa832aea-9b5a-485e-9938-541eda426824\" data-root-id=\"44565\"></div>\n",
       "</div>\n",
       "<script type=\"application/javascript\">(function(root) {\n",
       "  function embed_document(root) {\n",
       "    \n",
       "  var docs_json = {\"8c633f4e-fea3-48c0-bb7d-47817153c250\":{\"roots\":{\"references\":[{\"attributes\":{\"align\":null,\"below\":[{\"id\":\"44574\",\"type\":\"LinearAxis\"}],\"center\":[{\"id\":\"44578\",\"type\":\"Grid\"},{\"id\":\"44583\",\"type\":\"Grid\"}],\"left\":[{\"id\":\"44579\",\"type\":\"LinearAxis\"}],\"margin\":null,\"min_border_bottom\":10,\"min_border_left\":10,\"min_border_right\":10,\"min_border_top\":10,\"plot_height\":300,\"plot_width\":700,\"renderers\":[{\"id\":\"44602\",\"type\":\"GlyphRenderer\"}],\"sizing_mode\":\"fixed\",\"title\":{\"id\":\"44566\",\"type\":\"Title\"},\"toolbar\":{\"id\":\"44589\",\"type\":\"Toolbar\"},\"x_range\":{\"id\":\"44562\",\"type\":\"Range1d\"},\"x_scale\":{\"id\":\"44570\",\"type\":\"LinearScale\"},\"y_range\":{\"id\":\"44563\",\"type\":\"Range1d\"},\"y_scale\":{\"id\":\"44572\",\"type\":\"LinearScale\"}},\"id\":\"44565\",\"subtype\":\"Figure\",\"type\":\"Plot\"},{\"attributes\":{\"data_source\":{\"id\":\"44596\",\"type\":\"ColumnDataSource\"},\"glyph\":{\"id\":\"44599\",\"type\":\"Quad\"},\"hover_glyph\":null,\"muted_glyph\":{\"id\":\"44601\",\"type\":\"Quad\"},\"nonselection_glyph\":{\"id\":\"44600\",\"type\":\"Quad\"},\"selection_glyph\":null,\"view\":{\"id\":\"44603\",\"type\":\"CDSView\"}},\"id\":\"44602\",\"type\":\"GlyphRenderer\"},{\"attributes\":{},\"id\":\"44575\",\"type\":\"BasicTicker\"},{\"attributes\":{\"source\":{\"id\":\"44596\",\"type\":\"ColumnDataSource\"}},\"id\":\"44603\",\"type\":\"CDSView\"},{\"attributes\":{},\"id\":\"44597\",\"type\":\"Selection\"},{\"attributes\":{\"callback\":null,\"reset_end\":1.0,\"reset_start\":0.0,\"tags\":[[[\"broke\",\"broke\",null]]]},\"id\":\"44562\",\"type\":\"Range1d\"},{\"attributes\":{},\"id\":\"44570\",\"type\":\"LinearScale\"},{\"attributes\":{},\"id\":\"44572\",\"type\":\"LinearScale\"},{\"attributes\":{\"axis_label\":\"broke\",\"bounds\":\"auto\",\"formatter\":{\"id\":\"44605\",\"type\":\"BasicTickFormatter\"},\"major_label_orientation\":1.5707963267948966,\"ticker\":{\"id\":\"44575\",\"type\":\"BasicTicker\"}},\"id\":\"44574\",\"type\":\"LinearAxis\"},{\"attributes\":{\"bottom\":{\"value\":0},\"fill_alpha\":{\"value\":0.2},\"fill_color\":{\"value\":\"#1f77b3\"},\"left\":{\"field\":\"left\"},\"line_alpha\":{\"value\":0.2},\"line_color\":{\"value\":\"black\"},\"right\":{\"field\":\"right\"},\"top\":{\"field\":\"top\"}},\"id\":\"44601\",\"type\":\"Quad\"},{\"attributes\":{\"dimension\":1,\"grid_line_color\":null,\"ticker\":{\"id\":\"44580\",\"type\":\"BasicTicker\"}},\"id\":\"44583\",\"type\":\"Grid\"},{\"attributes\":{},\"id\":\"44605\",\"type\":\"BasicTickFormatter\"},{\"attributes\":{\"callback\":null,\"data\":{\"broke\":{\"__ndarray__\":\"mpmZmZmZmT80MzMzMzOzPwAAAAAAAMA/Z2ZmZmZmxj/NzMzMzMzMP5qZmZmZmdE/zszMzMzM1D8AAAAAAADYPzQzMzMzM9s/ZmZmZmZm3j/NzMzMzMzgP2dmZmZmZuI/AAAAAAAA5D+amZmZmZnlPzQzMzMzM+c/zczMzMzM6D9nZmZmZmbqPwAAAAAAAOw/mpmZmZmZ7T80MzMzMzPvPw==\",\"dtype\":\"float64\",\"shape\":[20]},\"broke_count\":[229,0,0,0,0,0,0,0,0,0,0,0,0,0,0,0,0,0,0,15],\"left\":{\"__ndarray__\":\"AAAAAAAAAACamZmZmZmpP5qZmZmZmbk/NDMzMzMzwz+amZmZmZnJPwAAAAAAANA/NDMzMzMz0z9nZmZmZmbWP5qZmZmZmdk/zczMzMzM3D8AAAAAAADgP5qZmZmZmeE/NDMzMzMz4z/NzMzMzMzkP2dmZmZmZuY/AAAAAAAA6D+amZmZmZnpPzQzMzMzM+s/zczMzMzM7D9nZmZmZmbuPw==\",\"dtype\":\"float64\",\"shape\":[20]},\"right\":{\"__ndarray__\":\"mpmZmZmZqT+amZmZmZm5PzQzMzMzM8M/mpmZmZmZyT8AAAAAAADQPzQzMzMzM9M/Z2ZmZmZm1j+amZmZmZnZP83MzMzMzNw/AAAAAAAA4D+amZmZmZnhPzQzMzMzM+M/zczMzMzM5D9nZmZmZmbmPwAAAAAAAOg/mpmZmZmZ6T80MzMzMzPrP83MzMzMzOw/Z2ZmZmZm7j8AAAAAAADwPw==\",\"dtype\":\"float64\",\"shape\":[20]},\"top\":[229,0,0,0,0,0,0,0,0,0,0,0,0,0,0,0,0,0,0,15]},\"selected\":{\"id\":\"44597\",\"type\":\"Selection\"},\"selection_policy\":{\"id\":\"44614\",\"type\":\"UnionRenderers\"}},\"id\":\"44596\",\"type\":\"ColumnDataSource\"},{\"attributes\":{},\"id\":\"44607\",\"type\":\"BasicTickFormatter\"},{\"attributes\":{},\"id\":\"44580\",\"type\":\"BasicTicker\"},{\"attributes\":{},\"id\":\"44584\",\"type\":\"SaveTool\"},{\"attributes\":{},\"id\":\"44585\",\"type\":\"PanTool\"},{\"attributes\":{},\"id\":\"44586\",\"type\":\"WheelZoomTool\"},{\"attributes\":{\"overlay\":{\"id\":\"44613\",\"type\":\"BoxAnnotation\"}},\"id\":\"44587\",\"type\":\"BoxZoomTool\"},{\"attributes\":{},\"id\":\"44588\",\"type\":\"ResetTool\"},{\"attributes\":{\"bottom\":{\"value\":0},\"fill_alpha\":{\"value\":0.1},\"fill_color\":{\"value\":\"#1f77b3\"},\"left\":{\"field\":\"left\"},\"line_alpha\":{\"value\":0.1},\"line_color\":{\"value\":\"black\"},\"right\":{\"field\":\"right\"},\"top\":{\"field\":\"top\"}},\"id\":\"44600\",\"type\":\"Quad\"},{\"attributes\":{\"active_drag\":\"auto\",\"active_inspect\":\"auto\",\"active_multi\":null,\"active_scroll\":\"auto\",\"active_tap\":\"auto\",\"tools\":[{\"id\":\"44564\",\"type\":\"HoverTool\"},{\"id\":\"44584\",\"type\":\"SaveTool\"},{\"id\":\"44585\",\"type\":\"PanTool\"},{\"id\":\"44586\",\"type\":\"WheelZoomTool\"},{\"id\":\"44587\",\"type\":\"BoxZoomTool\"},{\"id\":\"44588\",\"type\":\"ResetTool\"}]},\"id\":\"44589\",\"type\":\"Toolbar\"},{\"attributes\":{\"bottom_units\":\"screen\",\"fill_alpha\":{\"value\":0.5},\"fill_color\":{\"value\":\"lightgrey\"},\"left_units\":\"screen\",\"level\":\"overlay\",\"line_alpha\":{\"value\":1.0},\"line_color\":{\"value\":\"black\"},\"line_dash\":[4,4],\"line_width\":{\"value\":2},\"render_mode\":\"css\",\"right_units\":\"screen\",\"top_units\":\"screen\"},\"id\":\"44613\",\"type\":\"BoxAnnotation\"},{\"attributes\":{\"text\":\"\",\"text_color\":{\"value\":\"black\"},\"text_font_size\":{\"value\":\"12pt\"}},\"id\":\"44566\",\"type\":\"Title\"},{\"attributes\":{\"callback\":null,\"renderers\":[{\"id\":\"44602\",\"type\":\"GlyphRenderer\"}],\"tags\":[\"hv_created\"],\"tooltips\":[[\"broke\",\"@{broke}\"],[\"Count\",\"@{broke_count}\"]]},\"id\":\"44564\",\"type\":\"HoverTool\"},{\"attributes\":{\"axis_label\":\"\",\"bounds\":\"auto\",\"formatter\":{\"id\":\"44607\",\"type\":\"BasicTickFormatter\"},\"major_label_orientation\":\"horizontal\",\"ticker\":{\"id\":\"44580\",\"type\":\"BasicTicker\"}},\"id\":\"44579\",\"type\":\"LinearAxis\"},{\"attributes\":{\"bottom\":{\"value\":0},\"fill_color\":{\"value\":\"#1f77b3\"},\"left\":{\"field\":\"left\"},\"right\":{\"field\":\"right\"},\"top\":{\"field\":\"top\"}},\"id\":\"44599\",\"type\":\"Quad\"},{\"attributes\":{\"callback\":null,\"end\":229.0,\"reset_end\":229.0,\"reset_start\":0.0,\"tags\":[[[\"broke_count\",\"Count\",null]]]},\"id\":\"44563\",\"type\":\"Range1d\"},{\"attributes\":{},\"id\":\"44614\",\"type\":\"UnionRenderers\"},{\"attributes\":{\"grid_line_color\":null,\"ticker\":{\"id\":\"44575\",\"type\":\"BasicTicker\"}},\"id\":\"44578\",\"type\":\"Grid\"}],\"root_ids\":[\"44565\"]},\"title\":\"Bokeh Application\",\"version\":\"1.4.0\"}};\n",
       "  var render_items = [{\"docid\":\"8c633f4e-fea3-48c0-bb7d-47817153c250\",\"roots\":{\"44565\":\"aa832aea-9b5a-485e-9938-541eda426824\"}}];\n",
       "  root.Bokeh.embed.embed_items_notebook(docs_json, render_items);\n",
       "\n",
       "  }\n",
       "  if (root.Bokeh !== undefined) {\n",
       "    embed_document(root);\n",
       "  } else {\n",
       "    var attempts = 0;\n",
       "    var timer = setInterval(function(root) {\n",
       "      if (root.Bokeh !== undefined) {\n",
       "        clearInterval(timer);\n",
       "        embed_document(root);\n",
       "      } else {\n",
       "        attempts++;\n",
       "        if (attempts > 100) {\n",
       "          clearInterval(timer);\n",
       "          console.log(\"Bokeh: ERROR: Unable to run BokehJS code because BokehJS library is missing\");\n",
       "        }\n",
       "      }\n",
       "    }, 10, root)\n",
       "  }\n",
       "})(window);</script>"
      ],
      "text/plain": [
       ":Histogram   [broke]   (broke_count)"
      ]
     },
     "execution_count": 49,
     "metadata": {
      "application/vnd.holoviews_exec.v0+json": {
       "id": "44565"
      }
     },
     "output_type": "execute_result"
    }
   ],
   "source": [
    "info_df[info_df.type=='A'].hvplot.hist(y='broke',rot=90)"
   ]
  },
  {
   "cell_type": "code",
   "execution_count": null,
   "metadata": {},
   "outputs": [],
   "source": []
  }
 ],
 "metadata": {
  "kernelspec": {
   "display_name": "Python 3",
   "language": "python",
   "name": "python3"
  },
  "language_info": {
   "codemirror_mode": {
    "name": "ipython",
    "version": 3
   },
   "file_extension": ".py",
   "mimetype": "text/x-python",
   "name": "python",
   "nbconvert_exporter": "python",
   "pygments_lexer": "ipython3",
   "version": "3.7.3"
  }
 },
 "nbformat": 4,
 "nbformat_minor": 2
}
